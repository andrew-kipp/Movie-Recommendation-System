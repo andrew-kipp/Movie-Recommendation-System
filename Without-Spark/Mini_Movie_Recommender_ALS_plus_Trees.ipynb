{
 "cells": [
  {
   "cell_type": "code",
   "execution_count": 1,
   "metadata": {},
   "outputs": [],
   "source": [
    "# Intialization\n",
    "import os\n",
    "import time\n",
    "\n",
    "import warnings\n",
    "warnings.filterwarnings(\"ignore\", message=\"numpy.dtype size changed\")\n",
    "\n",
    "# data science imports\n",
    "import numpy as np\n",
    "import pandas as pd\n",
    "\n",
    "# ALS Imports\n",
    "import implicit\n",
    "import scipy.sparse as sparse\n",
    "from scipy.sparse.linalg import spsolve\n",
    "import random\n",
    "from sklearn.preprocessing import MinMaxScaler\n",
    "\n",
    "# Trees Imports\n",
    "import pickle\n",
    "from sklearn.preprocessing import MultiLabelBinarizer\n",
    "from sklearn.model_selection import train_test_split\n",
    "from sklearn.ensemble import RandomForestClassifier, RandomForestRegressor"
   ]
  },
  {
   "cell_type": "code",
   "execution_count": 2,
   "metadata": {},
   "outputs": [],
   "source": [
    "# Set data location\n",
    "system_path = ''\n",
    "data_path = system_path + '/Movie-Recommendation-System/Data/Reviews-1M/'\n",
    "# model_path = system_path + '/Movie-Recommendation-System/Without-Spark/Models/'"
   ]
  },
  {
   "cell_type": "code",
   "execution_count": 3,
   "metadata": {},
   "outputs": [
    {
     "name": "stderr",
     "output_type": "stream",
     "text": [
      "C:\\Users\\IOLAP-USER\\Anaconda3\\envs\\py37env\\lib\\site-packages\\ipykernel_launcher.py:11: ParserWarning: Falling back to the 'python' engine because the 'c' engine does not support regex separators (separators > 1 char and different from '\\s+' are interpreted as regex); you can avoid this warning by specifying engine='python'.\n",
      "  # This is added back by InteractiveShellApp.init_path()\n"
     ]
    },
    {
     "name": "stdout",
     "output_type": "stream",
     "text": [
      "Wall time: 15.3 s\n"
     ]
    }
   ],
   "source": [
    "%%time\n",
    "# Import movies data\n",
    "movies_df = pd.read_csv(data_path + 'movies_metadata_ohe_subset.csv')\n",
    "movies_df = movies_df.set_index(movies_df.itemId)\n",
    "\n",
    "# Import movies genre & people metadata\n",
    "movies_gp_df = pd.read_csv(data_path + 'movies_genre_and_people_metadata_ohe_subset.csv')\n",
    "movies_gp_df = movies_gp_df.set_index(movies_gp_df.itemId)\n",
    "\n",
    "# Import ratings data\n",
    "ratings_df = pd.read_csv(data_path + 'ratings.dat',\n",
    "                        sep = '::', header = None)\n",
    "ratings_df.columns = ['userId', 'itemId', 'label', 'timestamp']\n",
    "ratings_df.drop(['timestamp'], axis = 1, inplace = True)"
   ]
  },
  {
   "cell_type": "code",
   "execution_count": 4,
   "metadata": {},
   "outputs": [],
   "source": [
    "# User input function - takes user input data, strpis it down, and calls other functions on that data\n",
    "# Takes in user age, gender, list of favorite movies\n",
    "# All movies in the list of favorite movies will be rated 5 stars\n",
    "def new_user_input(fav_movies, all_ratings, movies_df, num_recs = 10, \n",
    "                   age = None, gender = None, movies_gp = None):\n",
    "    # age should be an integer in 1 - 100\n",
    "    # gender should be M or F\n",
    "    # fav_movies should be in the form of [\"Iron Man\", \"The Shawshank Redemption\", \"Robin Hood\"]\n",
    "    #    If there are multiple versions of the movie and the user wishes for one other than the most recent one, they\n",
    "    #    should specify with a year in parenthesis, like \"Robin Hood (1993)\"\n",
    "    \n",
    "    # collect favorite movie ids\n",
    "    print('Collecting favorite movie IDs')\n",
    "    movieIds = get_movieId(movies_df, fav_movies)\n",
    "    print('Favorite movies in the available set')\n",
    "    print(movies_df[['itemId', 'title', 'year']].loc[movieIds])\n",
    "    \n",
    "    print('Adding ratings to full set')\n",
    "    # add new user movie ratings to all ratings dataframe\n",
    "    all_ratings_updated, new_user_ratings = add_new_user_to_data(all_ratings, movieIds)\n",
    "    del all_ratings\n",
    "    \n",
    "    print('Creating prediction set')\n",
    "    # used for content-based filtering models\n",
    "    all_user_unrated = get_inference_data(all_ratings_updated, movieIds, movies_df)\n",
    "\n",
    "    print('ALS Data formatting')\n",
    "    all_ratings_updated.dropna(inplace = True)\n",
    "    # The implicit library expects data as a item-user matrix so we\n",
    "    # create two matricies, one for fitting the model (item-user) \n",
    "    # and one for recommendations (user-item)\n",
    "    sparse_item_user = sparse.csr_matrix((all_ratings_updated['label'].astype(float), \n",
    "                                          (all_ratings_updated['itemId'], all_ratings_updated['userId'])))\n",
    "    sparse_user_item = sparse.csr_matrix((all_ratings_updated['label'].astype(float), \n",
    "                                          (all_ratings_updated['userId'], all_ratings_updated['itemId'])))\n",
    "    \n",
    "    print('Training ALS model')\n",
    "    # Build the recommendation model using Alternating Least Squares from the Implicit package\n",
    "    num_factors = 10 # Latent factors\n",
    "    num_iters = 10 # Model iterations (like NN epochs)\n",
    "    reg_param = 0.1 # Regularization parameter to reduce overfitting\n",
    "\n",
    "    # initialize a model\n",
    "    model = implicit.als.AlternatingLeastSquares(factors=num_factors, iterations = num_iters, \n",
    "                                                 regularization = reg_param, \n",
    "                                                 use_cg = True, # cg is a faster optimization method\n",
    "                                                 calculate_training_loss = True) # keep loss values (for plotting if needed)\n",
    "\n",
    "    # Calculate the confidence by multiplying it by our alpha value.\n",
    "    alpha_val = 1 # Still not entirely sure what this parameter does...\n",
    "    data_conf = (sparse_item_user * alpha_val).astype('double')\n",
    "\n",
    "    #Fit the model\n",
    "    model.fit(data_conf)\n",
    "    del all_ratings_updated\n",
    "    \n",
    "    print('Making ALS Predictions')\n",
    "    # keep top 30 predictions\n",
    "    # Use the implicit recommender.\n",
    "    userId = new_user_ratings.userId.unique()[0]\n",
    "    recommended = model.recommend(userId, sparse_user_item, N = num_recs)\n",
    "    \n",
    "    movie_recs = []\n",
    "    scores = []\n",
    "    # Get movie titles from ids\n",
    "    for item in recommended:\n",
    "        idx, score = item\n",
    "        movie_recs.append(movies_df.title.loc[movies_df.itemId == idx].iloc[0])\n",
    "        scores.append(score)\n",
    "\n",
    "    # Create a dataframe of movie titles and scores\n",
    "    recommendations = pd.DataFrame({'movies': movie_recs, 'score': scores})\n",
    "    print('')\n",
    "    print('User', userId, 'Movie Recommendations')\n",
    "    print(recommendations)\n",
    "    \n",
    "    # format data for prediction using GBTs\n",
    "    # create user_id x item_id matrix need to get data in the form of user_id, item_id, label, then pivot\n",
    "    # filter movies_gp dataframe by the movieIds. pivot new_user_ratings into a vector, \n",
    "    # then multiply by the filtered movies_gp dataframe; divide by binarized user ratings; \n",
    "    # this should now be a vector of user preferences. \n",
    "    # join a OHE age, gender, and possibly occupation, to the user preferences\n",
    "    print('CBF Data Formatting')\n",
    "    user_summary = get_user_preferences(user_ratings = new_user_ratings, movieIds = movieIds, \n",
    "                                        movies_gp = movies_gp, age = age, gender = gender)\n",
    "    \n",
    "    # Extract movie ids from the top 5*num_recs for Gradient Boosted Trees prediction\n",
    "    userId = new_user_ratings.userId.unique()[0]\n",
    "    recommended = model.recommend(userId, sparse_user_item, N = num_recs*3)\n",
    "\n",
    "    als_top_3xn_ids = [id_val[0] for id_val in recommended]\n",
    "    all_user_unrated_top_3xn = all_user_unrated.loc[als_top_3xn_ids]\n",
    "    all_user_unrated_top_3xn.reset_index(drop = True, inplace = True)\n",
    "\n",
    "    top_3xn_movies_metadata = movies_df.loc[als_top_3xn_ids]\n",
    "    top_3xn_movies_metadata.reset_index(drop = True, inplace = True)\n",
    "\n",
    "    # lastly, replicate the user pref rows for each rated movieId, then join with the filtered movies dataframe\n",
    "    # (MAKE SURE ALL COLUMNS ARE ORDERED AND NAMED CORRECTLY)\n",
    "    # Index join - both indexes are itemId\n",
    "    unrated_with_movie_metadata = all_user_unrated_top_3xn \\\n",
    "                                    .merge(top_3xn_movies_metadata, \n",
    "                                           left_on = 'itemId', right_on = 'itemId',\n",
    "                                          how = 'left')\n",
    "    unrated_with_full_metadata = unrated_with_movie_metadata \\\n",
    "                                    .merge(user_summary, \n",
    "                                           left_on = 'userId', right_on = 'userId', \n",
    "                                           how = 'left') \\\n",
    "                                    .set_index('itemId') \\\n",
    "                                    .drop(columns = ['userId', 'title', 'imdb_id']) \\\n",
    "                                    .fillna(0)\n",
    "\n",
    "    # load the content-based filtering model (cbf_model) from disk\n",
    "    cbf_model = pickle.load(open(model_path + 'rfr_model.sav', 'rb'))\n",
    "    \n",
    "    print('Making CBF Predictions')\n",
    "    unrated_with_full_metadata['predictions'] = cbf_model.predict(unrated_with_full_metadata)\n",
    "    unrated_with_full_metadata.reset_index(inplace = True)\n",
    "    cbf_model_preds = unrated_with_full_metadata[['itemId', 'predictions']]\n",
    "\n",
    "    # sort by predicted rating and keep top [num_recs] recommendations\n",
    "    cbf_top_n_predictions = cbf_model_preds.sort_values(by = 'predictions', ascending=False).head(num_recs)\n",
    "\n",
    "    cbf_movie_recs = movies_df[['title', 'year']].loc[cbf_top_n_predictions.itemId]\n",
    "    print('Content-Based Filtering Recommendations')\n",
    "    print(cbf_movie_recs)"
   ]
  },
  {
   "cell_type": "code",
   "execution_count": 5,
   "metadata": {},
   "outputs": [],
   "source": [
    "def get_movieId(movies_df, fav_movie_list):\n",
    "    \"\"\"\n",
    "    return all movieId(s) of user's favorite movies\n",
    "    \n",
    "    Parameters\n",
    "    ----------\n",
    "    movies_df: DataFrame, all movieIds and info\n",
    "    \n",
    "    fav_movie_list: list, user's list of favorite movies\n",
    "    \n",
    "    Return\n",
    "    ------\n",
    "    movieId_list: list of movieId(s)\n",
    "    \"\"\"\n",
    "    movieId_list = []\n",
    "    for movie in fav_movie_list:\n",
    "        if movie[0:4] == 'The ':\n",
    "            movie = movie[4:]\n",
    "        elif movie[0:3] == 'An ':\n",
    "            movie = movie[3:]\n",
    "        elif movie[0:3] == 'La ':\n",
    "            movie = movie[3:]\n",
    "        elif movie[0:2] == 'A ':\n",
    "            movie = movie[3:]\n",
    "\n",
    "        if movie[-6:-5] == '(':\n",
    "            year = int(movie[-5:-1])\n",
    "            movie = movie[0:-7]\n",
    "            movieIds = movies_df.itemId[(movies_df.title.str.contains(movie)) & (movies_df.year == year)]\n",
    "            movieId_list.extend(movieIds)\n",
    "        elif len(movie.split(' ')) == 1:\n",
    "            movieIds = movies_df.itemId[movies_df.title == movie]\n",
    "            movieId_list.extend(movieIds)\n",
    "        else:\n",
    "            movieIds = movies_df.itemId[movies_df.title.str.contains(movie)]\n",
    "            movieId_list.extend(movieIds)\n",
    "    return movieId_list"
   ]
  },
  {
   "cell_type": "code",
   "execution_count": 6,
   "metadata": {},
   "outputs": [],
   "source": [
    "def add_new_user_to_data(train_data, movieIds):\n",
    "    \"\"\"\n",
    "    add new rows with new user's movie(s) and \n",
    "    rating(s) to existing ratings data\n",
    "\n",
    "    Parameters\n",
    "    ----------\n",
    "    train_data: DataFrame, ratings data\n",
    "    \n",
    "    movieIds: list, a set of movieId(s)\n",
    "    \n",
    "    Return\n",
    "    ------\n",
    "    new train data (DataFrame) with the new user's rows\n",
    "    \"\"\"\n",
    "    # get new user id\n",
    "    new_id = np.max(train_data.userId) + 1\n",
    "    # get max rating\n",
    "    max_rating = np.max(train_data.label)\n",
    "    # create new user df for max rating\n",
    "    user_rows_max = [(new_id, movieId, max_rating) for movieId in movieIds]\n",
    "    new_df_max = pd.DataFrame(user_rows_max, columns=['userId', 'itemId', 'label'])\n",
    "    # return new train data\n",
    "    return pd.concat([train_data, new_df_max], axis = 0), new_df_max"
   ]
  },
  {
   "cell_type": "code",
   "execution_count": 7,
   "metadata": {},
   "outputs": [],
   "source": [
    "def get_inference_data(train_data, movieIds, movies_df):\n",
    "    \"\"\"\n",
    "    return a rdd with the userid and all movies (except ones in movieId_list)\n",
    "\n",
    "    Parameters\n",
    "    ----------\n",
    "    train_data: DataFrame, ratings data\n",
    "\n",
    "    df_movies: DataFrame, movies data\n",
    "    \n",
    "    movieId_list: list, list of movieId(s)\n",
    "\n",
    "    Return\n",
    "    ------\n",
    "    user_unrated: DataFrame, all movies not rated by the new user\n",
    "    \"\"\"\n",
    "    # get new user id\n",
    "    new_id = np.max(train_data.userId)\n",
    "    \n",
    "    distinct_unrated_items = movies_df[['itemId']].loc[~movies_df.index.isin(movieIds)]\n",
    "    distinct_unrated_items['userId'] = new_id\n",
    "    user_unrated = distinct_unrated_items[['userId', 'itemId']]\n",
    "    \n",
    "    return user_unrated"
   ]
  },
  {
   "cell_type": "code",
   "execution_count": 8,
   "metadata": {},
   "outputs": [],
   "source": [
    "def get_user_preferences(user_ratings, movieIds, movies_gp, age, gender):\n",
    "    user_demog = pd.DataFrame({'gender_M': 0, 'gender_F': 0, 'age_group_1': 0, \n",
    "                               'age_group_18': 0, 'age_group_25': 0, 'age_group_35': 0, \n",
    "                               'age_group_45': 0, 'age_group_50': 0, 'age_group_56': 0}, index = [0])\n",
    "    # Bin user by age\n",
    "    if age < 18:\n",
    "        user_demog.age_group_1[0] = 1\n",
    "    elif age < 25:\n",
    "        user_demog.age_group_18[0] = 1\n",
    "    elif age < 35:\n",
    "        user_demog.age_group_25[0] = 1\n",
    "    elif age < 45:\n",
    "        user_demog.age_group_35[0] = 1\n",
    "    elif age < 50:\n",
    "        user_demog.age_group_45[0] = 1\n",
    "    elif age < 56:\n",
    "        user_demog.age_group_50[0] = 1\n",
    "    else:\n",
    "        user_demog.age_group_56[0] = 1\n",
    "    \n",
    "    if gender == 'M':\n",
    "        user_demog.gender_M[0] = 1\n",
    "    else:\n",
    "        user_demog.gender_F[0] = 1\n",
    "        \n",
    "    # new_user_ratings\n",
    "    pivoted_user_ratings_df = user_ratings.pivot(index='userId', columns='itemId', values='label').fillna(0)\n",
    "    pivoted_user_ratings_df_binary = pivoted_user_ratings_df / pivoted_user_ratings_df\n",
    "    \n",
    "    movies_gp_filtered_df = movies_gp.loc[movieIds].drop(columns = ['itemId'])\n",
    "    \n",
    "    user_summary_total = pivoted_user_ratings_df.dot(movies_gp_filtered_df)\n",
    "    user_summary_count = pivoted_user_ratings_df_binary.dot(movies_gp_filtered_df)\n",
    "    user_summary_avg = (user_summary_total / user_summary_count).fillna(0)\n",
    "    user_summary_avg = user_summary_avg.add_suffix('_avg_rating').reset_index()\n",
    "    \n",
    "    user_summary = pd.concat([user_summary_avg, user_demog], axis = 1)\n",
    "    sorted_columns = list(user_summary.columns.sort_values())\n",
    "    return user_summary[sorted_columns]"
   ]
  },
  {
   "cell_type": "markdown",
   "metadata": {},
   "source": [
    "### Step by Step Walkthrough of Main Function (to show runtime)"
   ]
  },
  {
   "cell_type": "code",
   "execution_count": 9,
   "metadata": {},
   "outputs": [
    {
     "name": "stdout",
     "output_type": "stream",
     "text": [
      "Collecting favorite movie IDs\n",
      "Favorite movies in the available set\n",
      "        itemId                      title  year\n",
      "itemId                                         \n",
      "318        318  Shawshank Redemption, The  1994\n",
      "2116      2116     Lord of the Rings, The  1978\n",
      "Wall time: 102 ms\n"
     ]
    }
   ],
   "source": [
    "%%time\n",
    "fav_movies = ['Tinker Tailor Soldier Spy', 'Shawshank Redemption', 'Lord of the Rings']\n",
    "# collect favorite movie ids\n",
    "print('Collecting favorite movie IDs')\n",
    "movieIds = get_movieId(movies_df, fav_movies)\n",
    "print('Favorite movies in the available set')\n",
    "print(movies_df[['itemId', 'title', 'year']].loc[movieIds])"
   ]
  },
  {
   "cell_type": "code",
   "execution_count": 10,
   "metadata": {},
   "outputs": [
    {
     "name": "stdout",
     "output_type": "stream",
     "text": [
      "Adding ratings to full set\n",
      "Wall time: 170 ms\n"
     ]
    }
   ],
   "source": [
    "%%time\n",
    "print('Adding ratings to full set')\n",
    "# add new user movie ratings to all ratings dataframe\n",
    "all_ratings_updated, user_ratings = add_new_user_to_data(ratings_df, movieIds)"
   ]
  },
  {
   "cell_type": "code",
   "execution_count": 11,
   "metadata": {},
   "outputs": [
    {
     "name": "stdout",
     "output_type": "stream",
     "text": [
      "Creating prediction set\n",
      "Wall time: 128 ms\n"
     ]
    }
   ],
   "source": [
    "%%time\n",
    "print('Creating prediction set')\n",
    "# used for content-based filtering models\n",
    "all_user_unrated = get_inference_data(all_ratings_updated, movieIds, movies_df)"
   ]
  },
  {
   "cell_type": "code",
   "execution_count": 12,
   "metadata": {},
   "outputs": [
    {
     "name": "stdout",
     "output_type": "stream",
     "text": [
      "Data formatting\n",
      "Training ALS model\n"
     ]
    },
    {
     "name": "stderr",
     "output_type": "stream",
     "text": [
      "WARNING:root:OpenBLAS detected. Its highly recommend to set the environment variable 'export OPENBLAS_NUM_THREADS=1' to disable its internal multithreading\n",
      "100%|███████████████████████████████████████████████████████████████████| 10.0/10 [00:09<00:00,  1.15it/s, loss=0.0548]\n"
     ]
    },
    {
     "name": "stdout",
     "output_type": "stream",
     "text": [
      "Wall time: 9.78 s\n"
     ]
    }
   ],
   "source": [
    "%%time\n",
    "print('Data formatting')\n",
    "all_ratings_updated.dropna(inplace = True)\n",
    "# The implicit library expects data as a item-user matrix so we\n",
    "# create two matricies, one for fitting the model (item-user) \n",
    "# and one for recommendations (user-item)\n",
    "sparse_item_user = sparse.csr_matrix((all_ratings_updated['label'].astype(float), \n",
    "                                      (all_ratings_updated['itemId'], all_ratings_updated['userId'])))\n",
    "sparse_user_item = sparse.csr_matrix((all_ratings_updated['label'].astype(float), \n",
    "                                      (all_ratings_updated['userId'], all_ratings_updated['itemId'])))\n",
    "\n",
    "print('Training ALS model')\n",
    "# Build the recommendation model using Alternating Least Squares from the Implicit package\n",
    "num_factors = 10 # Latent factors\n",
    "num_iters = 10 # Model iterations (like NN epochs)\n",
    "reg_param = 0.1 # Regularization parameter to reduce overfitting\n",
    "\n",
    "# initialize a model\n",
    "model = implicit.als.AlternatingLeastSquares(factors=num_factors, iterations = num_iters, \n",
    "                                             regularization = reg_param, \n",
    "                                             use_cg = True, # cg is a faster optimization method\n",
    "                                             calculate_training_loss = True) # keep loss values (for plotting if needed)\n",
    "\n",
    "# Calculate the confidence by multiplying it by our alpha value.\n",
    "alpha_val = 1 # Still not entirely sure what this parameter does...\n",
    "data_conf = (sparse_item_user * alpha_val).astype('double')\n",
    "\n",
    "#Fit the model\n",
    "model.fit(data_conf)\n",
    "del all_ratings_updated"
   ]
  },
  {
   "cell_type": "code",
   "execution_count": 13,
   "metadata": {},
   "outputs": [
    {
     "name": "stdout",
     "output_type": "stream",
     "text": [
      "Making Predictions\n",
      "\n",
      "User 6041 Movie Recommendations\n",
      "                                           movies     score\n",
      "0                                Schindler's List  0.069036\n",
      "1                       Silence of the Lambs, The  0.068612\n",
      "2                      E.T. the Extra-Terrestrial  0.065599\n",
      "3              Star Wars: Episode IV - A New Hope  0.063483\n",
      "4  Star Wars: Episode V - The Empire Strikes Back  0.063276\n",
      "5                                    Pulp Fiction  0.061077\n",
      "6                                           Fargo  0.060845\n",
      "7                             Saving Private Ryan  0.060103\n",
      "8                               Wizard of Oz, The  0.057101\n",
      "9                                  Lion King, The  0.056933\n",
      "Wall time: 42.5 ms\n"
     ]
    }
   ],
   "source": [
    "%%time\n",
    "print('Making Predictions')\n",
    "# keep top 10 predictions\n",
    "num_recs = 10\n",
    "# Use the implicit recommender.\n",
    "userId = user_ratings.userId.unique()[0]\n",
    "recommended = model.recommend(userId, sparse_user_item, N = num_recs)\n",
    "\n",
    "movie_recs = []\n",
    "scores = []\n",
    "# Get movie titles from ids\n",
    "for item in recommended:\n",
    "    idx, score = item\n",
    "    movie_recs.append(movies_df.title.loc[movies_df.itemId == idx].iloc[0])\n",
    "    scores.append(score)\n",
    "\n",
    "# Create a dataframe of movie titles and scores\n",
    "recommendations = pd.DataFrame({'movies': movie_recs, 'score': scores})\n",
    "print('')\n",
    "print('User', userId, 'Movie Recommendations')\n",
    "print(recommendations)"
   ]
  },
  {
   "cell_type": "code",
   "execution_count": 14,
   "metadata": {},
   "outputs": [
    {
     "name": "stdout",
     "output_type": "stream",
     "text": [
      "Wall time: 27.3 ms\n"
     ]
    }
   ],
   "source": [
    "%%time\n",
    "# import GBT model input data format\n",
    "# Create user_id x item_id matrix need to get data in the form of user_id, item_id, label, then pivot\n",
    "# filter movies_gp dataframe by the movieIds. pivot new_user_ratings into a vector, \n",
    "# then multiply by the filtered movies_gp dataframe; divide by binarized user ratings; \n",
    "# this should now be a vector of user preferences. \n",
    "# join a OHE age, gender, and possibly occupation, to the user preferences\n",
    "user_summary_df = get_user_preferences(user_ratings = user_ratings, movieIds = movieIds,\n",
    "                                       movies_gp = movies_gp_df, age = 26, gender = 'M')"
   ]
  },
  {
   "cell_type": "code",
   "execution_count": 15,
   "metadata": {},
   "outputs": [
    {
     "name": "stdout",
     "output_type": "stream",
     "text": [
      "Wall time: 5.62 ms\n"
     ]
    }
   ],
   "source": [
    "%%time\n",
    "userId = user_ratings.userId.unique()[0]\n",
    "recommended = model.recommend(userId, sparse_user_item, N = 30)\n",
    "\n",
    "als_top_3xn_ids = [id_val[0] for id_val in recommended]\n",
    "all_user_unrated_top_3xn = all_user_unrated.loc[als_top_3xn_ids]\n",
    "all_user_unrated_top_3xn.reset_index(drop = True, inplace = True)\n",
    "\n",
    "top_3xn_movies_metadata = movies_df.loc[als_top_3xn_ids]\n",
    "top_3xn_movies_metadata.reset_index(drop = True, inplace = True)"
   ]
  },
  {
   "cell_type": "code",
   "execution_count": 16,
   "metadata": {},
   "outputs": [
    {
     "name": "stdout",
     "output_type": "stream",
     "text": [
      "Wall time: 20.8 ms\n"
     ]
    }
   ],
   "source": [
    "%%time\n",
    "# lastly, replicate the user pref rows for each rated movieId, then join with the filtered movies dataframe\n",
    "# (MAKE SURE ALL COLUMNS ARE ORDERED AND NAMED CORRECTLY)\n",
    "\n",
    "# Index join - both indexes are itemId\n",
    "unrated_with_movie_metadata = all_user_unrated_top_3xn \\\n",
    "                                .merge(top_3xn_movies_metadata, \n",
    "                                       left_on = 'itemId', right_on = 'itemId',\n",
    "                                      how = 'left')\n",
    "unrated_with_full_metadata = unrated_with_movie_metadata \\\n",
    "                                .merge(user_summary_df, \n",
    "                                       left_on = 'userId', right_on = 'userId', \n",
    "                                       how = 'left') \\\n",
    "                                .set_index('itemId') \\\n",
    "                                .drop(columns = ['userId', 'title', 'imdb_id']) \\\n",
    "                                .fillna(0)"
   ]
  },
  {
   "cell_type": "code",
   "execution_count": 17,
   "metadata": {},
   "outputs": [
    {
     "name": "stdout",
     "output_type": "stream",
     "text": [
      "Wall time: 414 ms\n"
     ]
    }
   ],
   "source": [
    "%%time\n",
    "# load the content-based filtering model (cbf_model) from disk\n",
    "cbf_model = pickle.load(open(model_path + 'rfr_model.sav', 'rb'))\n",
    "\n",
    "unrated_with_full_metadata['predictions'] = cbf_model.predict(unrated_with_full_metadata)\n",
    "unrated_with_full_metadata.reset_index(inplace = True)\n",
    "cbf_model_preds = unrated_with_full_metadata[['itemId', 'predictions']]"
   ]
  },
  {
   "cell_type": "code",
   "execution_count": 18,
   "metadata": {
    "scrolled": true
   },
   "outputs": [
    {
     "name": "stdout",
     "output_type": "stream",
     "text": [
      "Content-Based Filtering Recommendations\n",
      "                                     title  year\n",
      "itemId                                          \n",
      "1097            E.T. the Extra-Terrestrial  1982\n",
      "1225                               Amadeus  1984\n",
      "3471    Close Encounters of the Third Kind  1977\n",
      "1704                     Good Will Hunting  1997\n",
      "924                  2001: A Space Odyssey  1968\n",
      "150                              Apollo 13  1995\n",
      "1193       One Flew Over the Cuckoo's Nest  1975\n",
      "1584                               Contact  1997\n",
      "1240                       Terminator, The  1984\n",
      "32                          Twelve Monkeys  1995\n",
      "Wall time: 53.5 ms\n"
     ]
    }
   ],
   "source": [
    "%%time\n",
    "cbf_top_n_predictions = cbf_model_preds.sort_values(by = 'predictions', ascending=False).head(10)\n",
    "\n",
    "cbf_movie_recs = movies_df[['title', 'year']].loc[cbf_top_n_predictions.itemId]\n",
    "print('Content-Based Filtering Recommendations')\n",
    "print(cbf_movie_recs)"
   ]
  },
  {
   "cell_type": "markdown",
   "metadata": {},
   "source": [
    "### Full Function Recommendation Examples"
   ]
  },
  {
   "cell_type": "code",
   "execution_count": 19,
   "metadata": {},
   "outputs": [
    {
     "name": "stdout",
     "output_type": "stream",
     "text": [
      "Collecting favorite movie IDs\n",
      "Favorite movies in the available set\n",
      "        itemId                      title  year\n",
      "itemId                                         \n",
      "318        318  Shawshank Redemption, The  1994\n",
      "2116      2116     Lord of the Rings, The  1978\n",
      "2376      2376          View to a Kill, A  1985\n",
      "Adding ratings to full set\n",
      "Creating prediction set\n",
      "ALS Data formatting\n",
      "Training ALS model\n"
     ]
    },
    {
     "name": "stderr",
     "output_type": "stream",
     "text": [
      "100%|███████████████████████████████████████████████████████████████████| 10.0/10 [00:09<00:00,  1.13it/s, loss=0.0548]\n"
     ]
    },
    {
     "name": "stdout",
     "output_type": "stream",
     "text": [
      "Making ALS Predictions\n",
      "\n",
      "User 6041 Movie Recommendations\n",
      "                                           movies     score\n",
      "0                      E.T. the Extra-Terrestrial  0.061443\n",
      "1                       Silence of the Lambs, The  0.061046\n",
      "2                                Schindler's List  0.057942\n",
      "3  Star Wars: Episode V - The Empire Strikes Back  0.057218\n",
      "4              Star Wars: Episode IV - A New Hope  0.055770\n",
      "5                                         Contact  0.055141\n",
      "6                                     Matrix, The  0.054857\n",
      "7                                           Fargo  0.054047\n",
      "8                                    Pulp Fiction  0.053924\n",
      "9                             Saving Private Ryan  0.053806\n",
      "CBF Data Formatting\n",
      "Making CBF Predictions\n",
      "Content-Based Filtering Recommendations\n",
      "                                     title  year\n",
      "itemId                                          \n",
      "1097            E.T. the Extra-Terrestrial  1982\n",
      "3471    Close Encounters of the Third Kind  1977\n",
      "150                              Apollo 13  1995\n",
      "1704                     Good Will Hunting  1997\n",
      "32                          Twelve Monkeys  1995\n",
      "924                  2001: A Space Odyssey  1968\n",
      "608                                  Fargo  1996\n",
      "590                     Dances with Wolves  1990\n",
      "2762                      Sixth Sense, The  1999\n",
      "1214                                 Alien  1979\n",
      "Wall time: 11.2 s\n"
     ]
    }
   ],
   "source": [
    "%%time\n",
    "fav_movies = ['Iron Man', 'Tinker Tailor Soldier Spy', 'Shawshank Redemption', 'Lord of the Rings', 'Harry Potter',\n",
    "             'The Family Stone', 'Shaun of the Dead', 'Up', 'A View to a Kill']\n",
    "new_user_input(fav_movies = fav_movies, all_ratings = ratings_df, \n",
    "               movies_df = movies_df, num_recs = 10, \n",
    "               age = 26, gender = 'M', movies_gp = movies_gp_df)"
   ]
  },
  {
   "cell_type": "code",
   "execution_count": 20,
   "metadata": {},
   "outputs": [
    {
     "name": "stdout",
     "output_type": "stream",
     "text": [
      "Collecting favorite movie IDs\n",
      "Favorite movies in the available set\n",
      "        itemId                      title  year\n",
      "itemId                                         \n",
      "318        318  Shawshank Redemption, The  1994\n",
      "2116      2116     Lord of the Rings, The  1978\n",
      "Adding ratings to full set\n",
      "Creating prediction set\n",
      "ALS Data formatting\n",
      "Training ALS model\n"
     ]
    },
    {
     "name": "stderr",
     "output_type": "stream",
     "text": [
      "100%|███████████████████████████████████████████████████████████████████| 10.0/10 [00:09<00:00,  1.14it/s, loss=0.0548]\n"
     ]
    },
    {
     "name": "stdout",
     "output_type": "stream",
     "text": [
      "Making ALS Predictions\n",
      "\n",
      "User 6041 Movie Recommendations\n",
      "                                           movies     score\n",
      "0                       Silence of the Lambs, The  0.071588\n",
      "1                                Schindler's List  0.068174\n",
      "2                                           Fargo  0.064769\n",
      "3              Star Wars: Episode IV - A New Hope  0.064167\n",
      "4                      E.T. the Extra-Terrestrial  0.062314\n",
      "5  Star Wars: Episode V - The Empire Strikes Back  0.062287\n",
      "6                                    Pulp Fiction  0.061708\n",
      "7                             Saving Private Ryan  0.060981\n",
      "8                                     Matrix, The  0.060200\n",
      "9                      Terminator 2: Judgment Day  0.058360\n",
      "CBF Data Formatting\n",
      "Making CBF Predictions\n",
      "Content-Based Filtering Recommendations\n",
      "                             title  year\n",
      "itemId                                  \n",
      "1097    E.T. the Extra-Terrestrial  1982\n",
      "1704             Good Will Hunting  1997\n",
      "924          2001: A Space Odyssey  1968\n",
      "150                      Apollo 13  1995\n",
      "2762              Sixth Sense, The  1999\n",
      "34                            Babe  1995\n",
      "1617             L.A. Confidential  1997\n",
      "1584                       Contact  1997\n",
      "1240               Terminator, The  1984\n",
      "1                        Toy Story  1995\n",
      "Wall time: 10.7 s\n"
     ]
    }
   ],
   "source": [
    "%%time\n",
    "fav_movies = ['Tinker Tailor Soldier Spy', 'Shawshank Redemption', 'Lord of the Rings']\n",
    "new_user_input(fav_movies = fav_movies, all_ratings = ratings_df, \n",
    "               movies_df = movies_df, num_recs = 10, \n",
    "               age = 26, gender = 'M', movies_gp = movies_gp_df)"
   ]
  },
  {
   "cell_type": "code",
   "execution_count": 21,
   "metadata": {},
   "outputs": [
    {
     "name": "stdout",
     "output_type": "stream",
     "text": [
      "Collecting favorite movie IDs\n",
      "Favorite movies in the available set\n",
      "        itemId                title  year\n",
      "itemId                                   \n",
      "3114      3114          Toy Story 2  1999\n",
      "1            1            Toy Story  1995\n",
      "1197      1197  Princess Bride, The  1987\n",
      "Adding ratings to full set\n",
      "Creating prediction set\n",
      "ALS Data formatting\n",
      "Training ALS model\n"
     ]
    },
    {
     "name": "stderr",
     "output_type": "stream",
     "text": [
      "100%|███████████████████████████████████████████████████████████████████| 10.0/10 [00:09<00:00,  1.13it/s, loss=0.0549]\n"
     ]
    },
    {
     "name": "stdout",
     "output_type": "stream",
     "text": [
      "Making ALS Predictions\n",
      "\n",
      "User 6041 Movie Recommendations\n",
      "                                           movies     score\n",
      "0                                 American Beauty  0.167533\n",
      "1              Star Wars: Episode IV - A New Hope  0.149947\n",
      "2                             Shakespeare in Love  0.148860\n",
      "3                              Back to the Future  0.142713\n",
      "4      Star Wars: Episode VI - Return of the Jedi  0.142558\n",
      "5  Star Wars: Episode V - The Empire Strikes Back  0.140051\n",
      "6                                   Groundhog Day  0.136137\n",
      "7                                   Bug's Life, A  0.135006\n",
      "8                            Being John Malkovich  0.131713\n",
      "9                         Raiders of the Lost Ark  0.129880\n",
      "CBF Data Formatting\n",
      "Making CBF Predictions\n",
      "Content-Based Filtering Recommendations\n",
      "                                            title  year\n",
      "itemId                                                 \n",
      "2716                                 Ghostbusters  1984\n",
      "318                     Shawshank Redemption, The  1994\n",
      "1097                   E.T. the Extra-Terrestrial  1982\n",
      "3175                                 Galaxy Quest  1999\n",
      "356                                  Forrest Gump  1994\n",
      "110                                    Braveheart  1995\n",
      "2791                                    Airplane!  1980\n",
      "2628    Star Wars: Episode I - The Phantom Menace  1999\n",
      "593                     Silence of the Lambs, The  1991\n",
      "34                                           Babe  1995\n",
      "Wall time: 11.6 s\n"
     ]
    }
   ],
   "source": [
    "%%time\n",
    "fav_movies = ['Frozen', 'Tangled', 'Oceans Eleven', 'Toy Story', 'The Princess Bride',  \n",
    "              'The Incredibles', 'Castle in the Sky', 'Monsters, Inc']\n",
    "new_user_input(fav_movies = fav_movies, all_ratings = ratings_df, \n",
    "               movies_df = movies_df, num_recs = 10, \n",
    "               age = 26, gender = 'M', movies_gp = movies_gp_df)"
   ]
  },
  {
   "cell_type": "code",
   "execution_count": 22,
   "metadata": {},
   "outputs": [
    {
     "name": "stdout",
     "output_type": "stream",
     "text": [
      "Collecting favorite movie IDs\n",
      "Favorite movies in the available set\n",
      "        itemId                title  year\n",
      "itemId                                   \n",
      "3114      3114          Toy Story 2  1999\n",
      "1            1            Toy Story  1995\n",
      "1197      1197  Princess Bride, The  1987\n",
      "Adding ratings to full set\n",
      "Creating prediction set\n",
      "ALS Data formatting\n",
      "Training ALS model\n"
     ]
    },
    {
     "name": "stderr",
     "output_type": "stream",
     "text": [
      "100%|███████████████████████████████████████████████████████████████████| 10.0/10 [00:09<00:00,  1.08it/s, loss=0.0548]\n"
     ]
    },
    {
     "name": "stdout",
     "output_type": "stream",
     "text": [
      "Making ALS Predictions\n",
      "\n",
      "User 6041 Movie Recommendations\n",
      "                                           movies     score\n",
      "0                                 American Beauty  0.165054\n",
      "1                             Shakespeare in Love  0.147280\n",
      "2              Star Wars: Episode IV - A New Hope  0.147050\n",
      "3      Star Wars: Episode VI - Return of the Jedi  0.139444\n",
      "4                              Back to the Future  0.138852\n",
      "5  Star Wars: Episode V - The Empire Strikes Back  0.137411\n",
      "6                                   Groundhog Day  0.135921\n",
      "7                                   Bug's Life, A  0.135677\n",
      "8                            Being John Malkovich  0.131261\n",
      "9                         Raiders of the Lost Ark  0.130023\n",
      "CBF Data Formatting\n",
      "Making CBF Predictions\n",
      "Content-Based Filtering Recommendations\n",
      "                             title  year\n",
      "itemId                                  \n",
      "2716                  Ghostbusters  1984\n",
      "318      Shawshank Redemption, The  1994\n",
      "1097    E.T. the Extra-Terrestrial  1982\n",
      "110                     Braveheart  1995\n",
      "356                   Forrest Gump  1994\n",
      "593      Silence of the Lambs, The  1991\n",
      "2791                     Airplane!  1980\n",
      "2762              Sixth Sense, The  1999\n",
      "2028           Saving Private Ryan  1998\n",
      "34                            Babe  1995\n",
      "Wall time: 12.1 s\n"
     ]
    }
   ],
   "source": [
    "%%time\n",
    "fav_movies = ['Frozen', 'Tangled', 'Oceans Eleven', 'Toy Story', 'The Princess Bride',  \n",
    "              'The Incredibles', 'Castle in the Sky', 'Monsters, Inc']\n",
    "new_user_input(fav_movies = fav_movies, all_ratings = ratings_df, \n",
    "               movies_df = movies_df, num_recs = 10, \n",
    "               age = 8, gender = 'F', movies_gp = movies_gp_df)"
   ]
  },
  {
   "cell_type": "code",
   "execution_count": 23,
   "metadata": {},
   "outputs": [
    {
     "name": "stdout",
     "output_type": "stream",
     "text": [
      "Collecting favorite movie IDs\n",
      "Favorite movies in the available set\n",
      "        itemId                                           title  year\n",
      "itemId                                                              \n",
      "1035      1035                             Sound of Music, The  1965\n",
      "3114      3114                                     Toy Story 2  1999\n",
      "1            1                                       Toy Story  1995\n",
      "1197      1197                             Princess Bride, The  1987\n",
      "572        572                                 Foreign Student  1994\n",
      "1196      1196  Star Wars: Episode V - The Empire Strikes Back  1980\n",
      "1210      1210      Star Wars: Episode VI - Return of the Jedi  1983\n",
      "2628      2628       Star Wars: Episode I - The Phantom Menace  1999\n",
      "260        260              Star Wars: Episode IV - A New Hope  1977\n",
      "904        904                                     Rear Window  1954\n",
      "1265      1265                                   Groundhog Day  1993\n",
      "2716      2716                                    Ghostbusters  1984\n",
      "520        520                       Robin Hood: Men in Tights  1993\n",
      "1036      1036                                        Die Hard  1988\n",
      "1370      1370                                      Die Hard 2  1990\n",
      "165        165                      Die Hard: With a Vengeance  1995\n",
      "Adding ratings to full set\n",
      "Creating prediction set\n",
      "ALS Data formatting\n",
      "Training ALS model\n"
     ]
    },
    {
     "name": "stderr",
     "output_type": "stream",
     "text": [
      "100%|███████████████████████████████████████████████████████████████████| 10.0/10 [00:09<00:00,  1.12it/s, loss=0.0549]\n"
     ]
    },
    {
     "name": "stdout",
     "output_type": "stream",
     "text": [
      "Making ALS Predictions\n",
      "\n",
      "User 6041 Movie Recommendations\n",
      "                       movies     score\n",
      "0             American Beauty  0.441349\n",
      "1     Raiders of the Lost Ark  0.421321\n",
      "2          Back to the Future  0.404817\n",
      "3         Saving Private Ryan  0.404373\n",
      "4               Jurassic Park  0.398972\n",
      "5                  Braveheart  0.393934\n",
      "6                 Matrix, The  0.387971\n",
      "7  Terminator 2: Judgment Day  0.387509\n",
      "8         Shakespeare in Love  0.386203\n",
      "9            Sixth Sense, The  0.381529\n",
      "CBF Data Formatting\n",
      "Making CBF Predictions\n",
      "Content-Based Filtering Recommendations\n",
      "                             title  year\n",
      "itemId                                  \n",
      "3175                  Galaxy Quest  1999\n",
      "1097    E.T. the Extra-Terrestrial  1982\n",
      "1580                  Men in Black  1997\n",
      "608                          Fargo  1996\n",
      "2355                 Bug's Life, A  1998\n",
      "318      Shawshank Redemption, The  1994\n",
      "2571                   Matrix, The  1999\n",
      "356                   Forrest Gump  1994\n",
      "2762              Sixth Sense, The  1999\n",
      "1270            Back to the Future  1985\n",
      "Wall time: 11 s\n"
     ]
    }
   ],
   "source": [
    "%%time\n",
    "fav_movies = ['The Sound of Music', 'Blackhawk Down', 'Pearl Harbor', 'Toy Story', 'The Princess Bride',  \n",
    "              'Foreign Student', 'Star Wars', 'The Shining', 'Rear Window', 'Groundhog Day', 'Ghostbusters', \n",
    "              'Robin Hood (1993)', 'Die Hard']\n",
    "new_user_input(fav_movies = fav_movies, all_ratings = ratings_df, \n",
    "               movies_df = movies_df, num_recs = 10, \n",
    "               age = 40, gender = 'M', movies_gp = movies_gp_df)"
   ]
  }
 ],
 "metadata": {
  "kernelspec": {
   "display_name": "py37env",
   "language": "python",
   "name": "py37env"
  },
  "language_info": {
   "codemirror_mode": {
    "name": "ipython",
    "version": 3
   },
   "file_extension": ".py",
   "mimetype": "text/x-python",
   "name": "python",
   "nbconvert_exporter": "python",
   "pygments_lexer": "ipython3",
   "version": "3.7.3"
  }
 },
 "nbformat": 4,
 "nbformat_minor": 2
}
