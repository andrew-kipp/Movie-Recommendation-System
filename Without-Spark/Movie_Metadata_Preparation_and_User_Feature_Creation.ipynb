{
 "cells": [
  {
   "cell_type": "code",
   "execution_count": null,
   "metadata": {},
   "outputs": [],
   "source": [
    "# Intialization\n",
    "import os\n",
    "import time\n",
    "\n",
    "import warnings\n",
    "warnings.filterwarnings(\"ignore\", message=\"numpy.dtype size changed\")\n",
    "\n",
    "# data science imports\n",
    "import numpy as np\n",
    "import pandas as pd\n",
    "from sklearn.preprocessing import MultiLabelBinarizer\n",
    "# import unicodedata"
   ]
  },
  {
   "cell_type": "code",
   "execution_count": null,
   "metadata": {},
   "outputs": [],
   "source": [
    "# Set Locations\n",
    "system_path = ''\n",
    "data_path = system_path + '/Movie-Recommendation-System/Data/Reviews-1M/'"
   ]
  },
  {
   "cell_type": "code",
   "execution_count": null,
   "metadata": {},
   "outputs": [],
   "source": [
    "# Import one-hot encoded movies metadata\n",
    "movies_df = pd.read_csv(data_path + 'movies_metadata_ohe.csv')\n",
    "movies_df['itemId'] = movies_df.itemId.apply(lambda x: 'itemId_' + str(x))\n",
    "movies_df = movies_df.set_index(movies_df.itemId) # set index so no sorting errors occur\n",
    "\n",
    "# Import ratings data\n",
    "ratings_df = pd.read_csv(data_path + 'ratings.dat',\n",
    "                        sep = '::', header = None)\n",
    "ratings_df.columns = ['userId', 'itemId', 'label', 'timestamp']\n",
    "ratings_df.drop(['timestamp'], axis = 1, inplace = True)\n",
    "ratings_df['userId'] = ratings_df.userId.apply(lambda x: 'userId_' + str(x))\n",
    "ratings_df['itemId'] = ratings_df.itemId.apply(lambda x: 'itemId_' + str(x))\n",
    "\n",
    "# Import users data\n",
    "users_df = pd.read_csv(data_path + 'users.dat', \n",
    "                       sep = '::', header = None)\n",
    "users_df.columns = ['userId', 'gender', 'age_group', 'occupation', 'zipcode']\n",
    "users_df.drop(['zipcode'], axis = 1, inplace = True)\n",
    "users_df['userId'] = users_df.userId.apply(lambda x: 'userId_' + str(x))"
   ]
  },
  {
   "cell_type": "code",
   "execution_count": null,
   "metadata": {},
   "outputs": [],
   "source": [
    "movies_df.head(5)"
   ]
  },
  {
   "cell_type": "code",
   "execution_count": null,
   "metadata": {},
   "outputs": [],
   "source": [
    "users_df.head(5)"
   ]
  },
  {
   "cell_type": "code",
   "execution_count": null,
   "metadata": {},
   "outputs": [],
   "source": [
    "ratings_df.head(5)"
   ]
  },
  {
   "cell_type": "markdown",
   "metadata": {},
   "source": [
    "Find the unique set of movies that have ratings in ratings_df. Remove all movies without ratings from movies_df.\n",
    "There are 3883 movies total, and only 3706 movies with ratings."
   ]
  },
  {
   "cell_type": "code",
   "execution_count": null,
   "metadata": {},
   "outputs": [],
   "source": [
    "print(len(ratings_df.itemId.unique()))\n",
    "#3706 < 3883 so some movies do not have any ratings, these movies can be removed for genre rating averaging\n",
    "# keep only movies that have at least one user rating\n",
    "distinct_rated_movies = ratings_df.itemId.unique()\n",
    "movies_df_rated = movies_df.iloc[[item in distinct_rated_movies for item in movies_df.itemId]]\n",
    "print(movies_df_rated.shape)"
   ]
  },
  {
   "cell_type": "markdown",
   "metadata": {},
   "source": [
    "Transform the ratings dataframe (userId, itemId, label) to a userId x itemId dataframe with the labels (ratings) as the values. Fill all missing values, items that have not been rated by a user, with 0s. \n",
    "\n",
    "Then create the binarized version of this matrix, and again fill any missing values with 0s. This dataframe will have values of 1 where a rating exists, and 0 otherwise."
   ]
  },
  {
   "cell_type": "code",
   "execution_count": null,
   "metadata": {},
   "outputs": [],
   "source": [
    "# Transform ratings dataframe to user_id x item_id dataframe with label (or rating) as the values\n",
    "ratings_spread = ratings_df.pivot(index='userId',columns='itemId',values='label').fillna(0)\n",
    "# Create binary valued dataframe from the transformed ratings dataframe. \n",
    "#   This should have values of 1 where the labels are >0 and 0 otherwise.\n",
    "ratings_spread_binary = (ratings_spread/ratings_spread).fillna(0)\n",
    "\n",
    "print('User Movie Ratings')\n",
    "ratings_spread.head()"
   ]
  },
  {
   "cell_type": "markdown",
   "metadata": {},
   "source": [
    "## Movie Genre Rating Summary"
   ]
  },
  {
   "cell_type": "code",
   "execution_count": null,
   "metadata": {},
   "outputs": [],
   "source": [
    "# Create movies dataframe subset that only contains the Movie Lens genre or IMDb genre.\n",
    "genre_cols = [mg for mg in list(movies_df_rated.columns) if (mg[0:8] == 'ml_genre' or mg[0:10] == 'imdb_genre')]\n",
    "movie_genres = movies_df_rated[genre_cols]\n",
    "# Cross the new ratings dataframe with the genres dataframe \n",
    "#   - this is now a datframe with sum of ratings by genre for each user\n",
    "user_genre_total = ratings_spread.dot(movie_genres)\n",
    "# Cross the binarized ratings dataframe with the genres dataframe \n",
    "#   - this is now a dataframe that contains counts of rated movies by genre for each user\n",
    "user_genre_count = ratings_spread_binary.dot(movie_genres)"
   ]
  },
  {
   "cell_type": "code",
   "execution_count": null,
   "metadata": {},
   "outputs": [],
   "source": [
    "ratings_spread_binary.head()"
   ]
  },
  {
   "cell_type": "code",
   "execution_count": null,
   "metadata": {},
   "outputs": [],
   "source": [
    "movie_genres.head()"
   ]
  },
  {
   "cell_type": "code",
   "execution_count": null,
   "metadata": {},
   "outputs": [],
   "source": [
    "# Perform element wise division on user genre total and user genre count to get user genre average\n",
    "user_genre_avg = user_genre_total / user_genre_count\n",
    "user_genre_avg = user_genre_avg.add_suffix('_avg_rating').reset_index()\n",
    "\n",
    "users_metadata = pd.merge(users_df, user_genre_avg, on = 'userId')\n",
    "\n",
    "print('User Metadata with Genre Averages')\n",
    "users_metadata.head()"
   ]
  },
  {
   "cell_type": "code",
   "execution_count": null,
   "metadata": {},
   "outputs": [],
   "source": [
    "del movie_genres, user_genre_total, user_genre_count, user_genre_avg"
   ]
  },
  {
   "cell_type": "markdown",
   "metadata": {},
   "source": [
    "## Actor and Director Ratings Summary"
   ]
  },
  {
   "cell_type": "code",
   "execution_count": null,
   "metadata": {},
   "outputs": [],
   "source": [
    "# Create movies dataframe subset that only contains the actors or directors\n",
    "actor_cols = [mg for mg in list(movies_df_rated.columns) if mg[0:6] == 'actor_']\n",
    "director_cols = [mg for mg in list(movies_df_rated.columns) if mg[0:9] == 'director_']\n",
    "people_cols = actor_cols + director_cols\n",
    "movie_people = movies_df_rated[people_cols]\n",
    "# # Cross the binarized ratings dataframe with the genres dataframe \n",
    "# #   - this is now a dataframe that contains counts of rated movies by genre for each user\n",
    "user_movie_people_count = ratings_spread_binary.dot(movie_people)"
   ]
  },
  {
   "cell_type": "code",
   "execution_count": null,
   "metadata": {},
   "outputs": [],
   "source": [
    "# For testing purposes, create list of Alfred Hitchcock movies (can be done for any director)\n",
    "hitchcock_movies = list(movies_df_rated.itemId.iloc[np.where(movies_df_rated.director_Alfred_Hitchcock == 1)])\n",
    "print(hitchcock_movies)"
   ]
  },
  {
   "cell_type": "code",
   "execution_count": null,
   "metadata": {},
   "outputs": [],
   "source": [
    "# Determine how many ratings were made for Hitchcock movies\n",
    "ratings_df_temp = ratings_df.iloc[np.where([item in hitchcock_movies for item in ratings_df.itemId])]\n",
    "print('number of ratings:', len(ratings_df_temp))"
   ]
  },
  {
   "cell_type": "code",
   "execution_count": null,
   "metadata": {},
   "outputs": [],
   "source": [
    "# Make sure that the ratings were spread correctly and that the number of ratings remains constant\n",
    "print('number of ratings:', np.sum(np.sum(ratings_spread_binary[hitchcock_movies])))"
   ]
  },
  {
   "cell_type": "code",
   "execution_count": null,
   "metadata": {},
   "outputs": [],
   "source": [
    "# Confirm that the dot product maintained a correct number of ratings\n",
    "print('number of ratings:', np.sum(user_movie_people_count.director_Alfred_Hitchcock))"
   ]
  },
  {
   "cell_type": "code",
   "execution_count": null,
   "metadata": {},
   "outputs": [],
   "source": [
    "actor_views = user_movie_people_count[actor_cols].apply(np.sum, axis = 0)\n",
    "# This total will be much greater than the total number of ratings because an individual movie has multiple actors\n",
    "print('total actor views: ', np.sum(actor_views))\n",
    "director_views = user_movie_people_count[director_cols].apply(np.sum, axis = 0)\n",
    "# This total may be greater than the total number of ratings if one movie had multiple directors\n",
    "print('total director views: ', np.sum(director_views))"
   ]
  },
  {
   "cell_type": "code",
   "execution_count": null,
   "metadata": {},
   "outputs": [],
   "source": [
    "del movie_people, user_movie_people_count, hitchcock_movies, ratings_df_temp"
   ]
  },
  {
   "cell_type": "code",
   "execution_count": null,
   "metadata": {},
   "outputs": [],
   "source": [
    "# Filter actors to top 200, or ~7800, based on number of views\n",
    "top_200_actors = actor_views.sort_values(ascending = False).head(200)\n",
    "top_200_actors_names = top_200_actors.index\n",
    "top_200_actors"
   ]
  },
  {
   "cell_type": "code",
   "execution_count": null,
   "metadata": {},
   "outputs": [],
   "source": [
    "# Filter directors to top 50, of ~2200, based on number of views\n",
    "top_50_directors = director_views.sort_values(ascending = False).head(50)\n",
    "top_50_directors_names = top_50_directors.index\n",
    "top_50_directors"
   ]
  },
  {
   "cell_type": "code",
   "execution_count": null,
   "metadata": {},
   "outputs": [],
   "source": [
    "# Filter out actors and directors not in the top 200 and 50\n",
    "# Create movies dataframe subset that only contains the top actors and directors\n",
    "movie_people = movies_df_rated[list(top_200_actors_names) + list(top_50_directors_names)]\n",
    "# Cross the new ratings dataframe with the  movie_people dataframes\n",
    "#   - this is now a datframe with sum of ratings by actor and director for each user\n",
    "user_movie_people_total = ratings_spread.dot(movie_people)\n",
    "# Cross the binarized ratings dataframe with the movie_people dataframes\n",
    "#   - this is now a dataframe with counts of rated movies by actor and director for each user\n",
    "user_movie_people_count = ratings_spread_binary.dot(movie_people)"
   ]
  },
  {
   "cell_type": "code",
   "execution_count": null,
   "metadata": {},
   "outputs": [],
   "source": [
    "user_movie_people_avg_ratings = user_movie_people_total / user_movie_people_count\n",
    "user_movie_people_avg_ratings = user_movie_people_avg_ratings.add_suffix('_avg_rating').reset_index()"
   ]
  },
  {
   "cell_type": "code",
   "execution_count": null,
   "metadata": {},
   "outputs": [],
   "source": [
    "users_metadata = pd.merge(users_metadata, user_movie_people_avg_ratings, on = 'userId')\n",
    "gender_OHE = pd.get_dummies(users_metadata.gender, prefix = 'gender')\n",
    "age_group_OHE = pd.get_dummies(users_metadata.age_group, prefix = 'age_group')\n",
    "users_metadata = pd.concat([users_metadata, gender_OHE, age_group_OHE], axis = 1, sort = False)\n",
    "users_metadata.drop(['gender', 'age_group', 'occupation'], axis = 1, inplace = True)\n",
    "users_metadata.head()"
   ]
  },
  {
   "cell_type": "code",
   "execution_count": null,
   "metadata": {},
   "outputs": [],
   "source": [
    "del movie_people, user_movie_people_total, user_movie_people_count, \\\n",
    "    user_movie_people_avg_ratings, movies_df_rated, ratings_spread, ratings_spread_binary, \\\n",
    "    top_200_actors, top_50_directors, ratings_df, actor_views, \\\n",
    "    director_views, users_df"
   ]
  },
  {
   "cell_type": "markdown",
   "metadata": {},
   "source": [
    "## Convert to Spark Dataframe and Save"
   ]
  },
  {
   "cell_type": "code",
   "execution_count": null,
   "metadata": {},
   "outputs": [],
   "source": [
    "users_metadata['userId'] = users_metadata.userId.apply(lambda x: int(x[7:]))\n",
    "movies_df['itemId'] = movies_df.itemId.apply(lambda x: int(x[7:]))"
   ]
  },
  {
   "cell_type": "code",
   "execution_count": null,
   "metadata": {},
   "outputs": [],
   "source": [
    "sorted_columns = list(users_metadata.columns.sort_values())\n",
    "users_metadata = users_metadata[sorted_columns]\n",
    "users_metadata.to_csv(data_path + 'users_metadata.csv', index = False)"
   ]
  },
  {
   "cell_type": "code",
   "execution_count": null,
   "metadata": {},
   "outputs": [],
   "source": [
    "movie_cols_to_keep = ['itemId', 'title', 'imdb_id', 'imdb_rating', \n",
    "                       'imdb_votes', 'metascore', 'runtime', 'year'] +\\\n",
    "        genre_cols + list(top_50_directors_names) + list(top_200_actors_names)\n",
    "movie_metadata_ohe_subset = movies_df[movie_cols_to_keep]\n",
    "movie_metadata_ohe_subset.to_csv(data_path + 'movies_metadata_ohe_subset.csv', index = False)"
   ]
  },
  {
   "cell_type": "code",
   "execution_count": null,
   "metadata": {},
   "outputs": [],
   "source": [
    "genre_and_people_cols = ['itemId'] + genre_cols + list(top_50_directors_names) + list(top_200_actors_names)\n",
    "movie_genre_and_people_metadata_ohe_subset = movies_df[genre_and_people_cols]\n",
    "movie_genre_and_people_metadata_ohe_subset.to_csv(data_path + 'movies_genre_and_people_metadata_ohe_subset.csv', index = False)"
   ]
  }
 ],
 "metadata": {
  "kernelspec": {
   "display_name": "py37env",
   "language": "python",
   "name": "py37env"
  },
  "language_info": {
   "codemirror_mode": {
    "name": "ipython",
    "version": 3
   },
   "file_extension": ".py",
   "mimetype": "text/x-python",
   "name": "python",
   "nbconvert_exporter": "python",
   "pygments_lexer": "ipython3",
   "version": "3.7.3"
  }
 },
 "nbformat": 4,
 "nbformat_minor": 2
}
