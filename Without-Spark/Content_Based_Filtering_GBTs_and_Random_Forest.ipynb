{
 "cells": [
  {
   "cell_type": "code",
   "execution_count": null,
   "metadata": {},
   "outputs": [],
   "source": [
    "# Intialization\n",
    "import os\n",
    "import time\n",
    "\n",
    "import warnings\n",
    "warnings.filterwarnings(\"ignore\", message=\"numpy.dtype size changed\")\n",
    "\n",
    "# data science imports\n",
    "import numpy as np\n",
    "import pandas as pd\n",
    "import pickle\n",
    "\n",
    "from sklearn.ensemble import RandomForestClassifier, RandomForestRegressor\n",
    "from sklearn.ensemble import GradientBoostingClassifier, GradientBoostingRegressor\n",
    "from sklearn.model_selection import train_test_split\n",
    "from sklearn.metrics import accuracy_score, mean_absolute_error, mean_squared_error"
   ]
  },
  {
   "cell_type": "code",
   "execution_count": null,
   "metadata": {},
   "outputs": [],
   "source": [
    "# Set data location\n",
    "system_path = ''\n",
    "data_path = system_path + '/Movie-Recommendation-System/Data/Reviews-1M/'\n",
    "# model_path = system_path + '/Movie-Recommendation-System/Without-Spark/Models/'"
   ]
  },
  {
   "cell_type": "code",
   "execution_count": null,
   "metadata": {},
   "outputs": [],
   "source": [
    "# Import Movie and User data\n",
    "movies_df = pd.read_csv(data_path + 'movies_metadata_ohe_subset.csv')\n",
    "\n",
    "users_df = pd.read_csv(data_path + 'users_metadata.csv')\n",
    "users_df = users_df.fillna(0)\n",
    "\n",
    "ratings_df = pd.read_csv(data_path + 'ratings.dat',\n",
    "                        sep = '::', header = None)\n",
    "ratings_df.columns = ['userId', 'itemId', 'label', 'timestamp']\n",
    "ratings_df.drop(['timestamp'], axis = 1, inplace = True)"
   ]
  },
  {
   "cell_type": "code",
   "execution_count": null,
   "metadata": {},
   "outputs": [],
   "source": [
    "ratings_metadata = ratings_df.join(movies_df, ['itemId'], how = 'left', rsuffix='_right')\n",
    "ratings_metadata.drop(['itemId_right'], axis = 1, inplace = True)\n",
    "\n",
    "ratings_full = ratings_metadata.join(users_df, ['userId'], how = 'left', rsuffix='_right')\n",
    "rating_labels = ratings_full.label\n",
    "ratings_full.drop(['userId_right', 'userId', 'itemId', 'title', \n",
    "                        'imdb_id', 'label'], axis = 1, inplace = True)\n",
    "ratings_full = ratings_full.fillna(0)\n",
    "\n",
    "del ratings_df, users_df"
   ]
  },
  {
   "cell_type": "code",
   "execution_count": null,
   "metadata": {},
   "outputs": [],
   "source": [
    "ratings_train, ratings_test, labels_train, labels_test = train_test_split(ratings_full, rating_labels, \n",
    "                                                                          test_size=0.33, random_state=42)\n",
    "del ratings_full, rating_labels"
   ]
  },
  {
   "cell_type": "markdown",
   "metadata": {},
   "source": [
    "## Metadata and Full User Data\n",
    "### Random Forest Classifier"
   ]
  },
  {
   "cell_type": "code",
   "execution_count": null,
   "metadata": {},
   "outputs": [],
   "source": [
    "%%time\n",
    "rfc  = RandomForestClassifier(n_estimators = 500, \n",
    "                              max_depth = 10, \n",
    "                              random_state = 42, \n",
    "                              max_features = 'log2', \n",
    "                              min_samples_leaf = 20, \n",
    "                              n_jobs = 3)\n",
    "rfc_model = rfc.fit(ratings_train, labels_train)"
   ]
  },
  {
   "cell_type": "code",
   "execution_count": null,
   "metadata": {},
   "outputs": [],
   "source": [
    "%%time\n",
    "rfc_model_preds = rfc_model.predict(ratings_test)"
   ]
  },
  {
   "cell_type": "code",
   "execution_count": null,
   "metadata": {},
   "outputs": [],
   "source": [
    "%%time\n",
    "print('Accuracy:', accuracy_score(labels_test, rfc_model_preds))\n",
    "print('Mean Absolute Error:', mean_absolute_error(labels_test, rfc_model_preds))\n",
    "print('Mean Squared Error:', mean_squared_error(labels_test, rfc_model_preds))\n",
    "del rfc_model_preds"
   ]
  },
  {
   "cell_type": "code",
   "execution_count": null,
   "metadata": {},
   "outputs": [],
   "source": [
    "# save the model to disk\n",
    "filename = models_write_path + 'rfc_model.sav'\n",
    "pickle.dump(rfc_model, open(filename, 'wb'))"
   ]
  },
  {
   "cell_type": "code",
   "execution_count": null,
   "metadata": {},
   "outputs": [],
   "source": [
    "# # load the model from disk\n",
    "# loaded_model = pickle.load(open(filename, 'rb'))\n",
    "\n",
    "# model_preds = loaded_model.predict(ratings_test)\n",
    "\n",
    "# print('Accuracy:', accuracy_score(labels_test, model_preds))\n",
    "# print('Mean Absolute Error:', mean_absolute_error(labels_test, model_preds))\n",
    "# print('Mean Squared Error:', mean_squared_error(labels_test, model_preds))"
   ]
  },
  {
   "cell_type": "markdown",
   "metadata": {},
   "source": [
    "### Random Forest Regressor"
   ]
  },
  {
   "cell_type": "code",
   "execution_count": null,
   "metadata": {},
   "outputs": [],
   "source": [
    "%%time\n",
    "rfr  = RandomForestRegressor(n_estimators = 100, \n",
    "                              max_depth = 30, \n",
    "                              random_state = 42, \n",
    "                              max_features = 'sqrt', \n",
    "                              min_samples_leaf = 20, \n",
    "                              n_jobs = 3)\n",
    "rfr_model = rfr.fit(ratings_train, labels_train)"
   ]
  },
  {
   "cell_type": "code",
   "execution_count": null,
   "metadata": {},
   "outputs": [],
   "source": [
    "%%time\n",
    "rfr_model_preds = rfr_model.predict(ratings_test)"
   ]
  },
  {
   "cell_type": "code",
   "execution_count": null,
   "metadata": {},
   "outputs": [],
   "source": [
    "%%time\n",
    "print('Mean Absolute Error:', mean_absolute_error(labels_test, rfr_model_preds))\n",
    "print('Mean Squared Error:', mean_squared_error(labels_test, rfr_model_preds))\n",
    "del rfr_model_preds"
   ]
  },
  {
   "cell_type": "code",
   "execution_count": null,
   "metadata": {},
   "outputs": [],
   "source": [
    "# save the model to disk\n",
    "filename = 'Models/rfr_model.sav'\n",
    "pickle.dump(rfr_model, open(filename, 'wb'))"
   ]
  },
  {
   "cell_type": "markdown",
   "metadata": {},
   "source": [
    "### Gradient Boosting Tree Classifier"
   ]
  },
  {
   "cell_type": "code",
   "execution_count": null,
   "metadata": {},
   "outputs": [],
   "source": [
    "%%time\n",
    "gbc  = GradientBoostingClassifier(n_estimators = 10, \n",
    "                                  learning_rate = 0.1, \n",
    "                                  max_depth = 10,\n",
    "                                  random_state = 42, \n",
    "                                  max_features = 'sqrt', \n",
    "                                  min_samples_leaf = 20,\n",
    "                                  n_iter_no_change = 5)\n",
    "gbc_model = gbc.fit(ratings_train, labels_train)"
   ]
  },
  {
   "cell_type": "code",
   "execution_count": null,
   "metadata": {},
   "outputs": [],
   "source": [
    "%%time\n",
    "gbc_model_preds = gbc_model.predict(ratings_test)"
   ]
  },
  {
   "cell_type": "code",
   "execution_count": null,
   "metadata": {},
   "outputs": [],
   "source": [
    "%%time\n",
    "print('Accuracy:', accuracy_score(labels_test, gbc_model_preds))\n",
    "print('Mean Absolute Error:', mean_absolute_error(labels_test, gbc_model_preds))\n",
    "print('Mean Squared Error:', mean_squared_error(labels_test, gbc_model_preds))\n",
    "del gbc_model_preds"
   ]
  },
  {
   "cell_type": "markdown",
   "metadata": {},
   "source": [
    "### Gradient Boosting Tree Regressor"
   ]
  },
  {
   "cell_type": "code",
   "execution_count": null,
   "metadata": {},
   "outputs": [],
   "source": [
    "%%time\n",
    "gbr  = GradientBoostingRegressor(n_estimators = 10, \n",
    "                                 learning_rate = 0.1, \n",
    "                                 max_depth = 10,\n",
    "                                 random_state = 42, \n",
    "                                 max_features = 'sqrt', \n",
    "                                 min_samples_leaf = 20,\n",
    "                                 n_iter_no_change = 5)\n",
    "gbr_model = gbr.fit(ratings_train, labels_train)"
   ]
  },
  {
   "cell_type": "code",
   "execution_count": null,
   "metadata": {},
   "outputs": [],
   "source": [
    "%%time\n",
    "gbr_model_preds = gbr_model.predict(ratings_test)"
   ]
  },
  {
   "cell_type": "code",
   "execution_count": null,
   "metadata": {},
   "outputs": [],
   "source": [
    "%%time\n",
    "print('Mean Absolute Error:', mean_absolute_error(labels_test, gbr_model_preds))\n",
    "print('Mean Squared Error:', mean_squared_error(labels_test, gbr_model_preds))\n",
    "del gbr_model_preds"
   ]
  }
 ],
 "metadata": {
  "kernelspec": {
   "display_name": "py37env",
   "language": "python",
   "name": "py37env"
  },
  "language_info": {
   "codemirror_mode": {
    "name": "ipython",
    "version": 3
   },
   "file_extension": ".py",
   "mimetype": "text/x-python",
   "name": "python",
   "nbconvert_exporter": "python",
   "pygments_lexer": "ipython3",
   "version": "3.7.3"
  }
 },
 "nbformat": 4,
 "nbformat_minor": 2
}
