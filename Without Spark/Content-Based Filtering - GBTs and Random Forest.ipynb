{
 "cells": [
  {
   "cell_type": "code",
   "execution_count": 22,
   "metadata": {},
   "outputs": [],
   "source": [
    "# Intialization\n",
    "import os\n",
    "import time\n",
    "\n",
    "import warnings\n",
    "warnings.filterwarnings(\"ignore\", message=\"numpy.dtype size changed\")\n",
    "\n",
    "# data science imports\n",
    "import numpy as np\n",
    "import pandas as pd\n",
    "from sklearn.ensemble import RandomForestClassifier, RandomForestRegressor\n",
    "from sklearn.ensemble import GradientBoostingClassifier, GradientBoostingRegressor\n",
    "from sklearn.model_selection import train_test_split\n",
    "from sklearn.metrics import accuracy_score, mean_absolute_error, mean_squared_error"
   ]
  },
  {
   "cell_type": "code",
   "execution_count": 2,
   "metadata": {},
   "outputs": [],
   "source": [
    "# Set data location\n",
    "data_path = 'C:/Users/IOLAP-USER/Documents/Movie-Recommendation-System/Data/Reviews-1M/'"
   ]
  },
  {
   "cell_type": "code",
   "execution_count": 3,
   "metadata": {},
   "outputs": [
    {
     "name": "stderr",
     "output_type": "stream",
     "text": [
      "C:\\Users\\IOLAP-USER\\Anaconda3\\envs\\py37env\\lib\\site-packages\\ipykernel_launcher.py:8: ParserWarning: Falling back to the 'python' engine because the 'c' engine does not support regex separators (separators > 1 char and different from '\\s+' are interpreted as regex); you can avoid this warning by specifying engine='python'.\n",
      "  \n"
     ]
    }
   ],
   "source": [
    "# Import Movie and User data\n",
    "movies_df = pd.read_csv(data_path + 'movie_metadata_ohe_subset.csv')\n",
    "\n",
    "users_df = pd.read_csv(data_path + 'users_metadata.csv')\n",
    "users_df = users_df.fillna(0)\n",
    "\n",
    "ratings_df = pd.read_csv(data_path + 'ratings.dat',\n",
    "                        sep = '::', header = None)\n",
    "ratings_df.columns = ['userId', 'itemId', 'label', 'timestamp']\n",
    "ratings_df.drop(['timestamp'], axis = 1, inplace = True)"
   ]
  },
  {
   "cell_type": "code",
   "execution_count": 4,
   "metadata": {},
   "outputs": [],
   "source": [
    "ratings_metadata = ratings_df.join(movies_df, ['itemId'], how = 'left', rsuffix='_right')\n",
    "ratings_metadata.drop(['itemId_right'], axis = 1, inplace = True)\n",
    "\n",
    "ratings_full = ratings_metadata.join(users_df, ['userId'], how = 'left', rsuffix='_right')\n",
    "rating_labels = ratings_full.label\n",
    "ratings_full.drop(['userId_right', 'userId', 'itemId', 'title', \n",
    "                        'imdb_id', 'label'], axis = 1, inplace = True)\n",
    "ratings_full = ratings_full.fillna(0)\n",
    "\n",
    "del ratings_df, users_df"
   ]
  },
  {
   "cell_type": "code",
   "execution_count": 5,
   "metadata": {},
   "outputs": [],
   "source": [
    "ratings_train, ratings_test, labels_train, labels_test = train_test_split(ratings_full, rating_labels, \n",
    "                                                                          test_size=0.33, random_state=42)\n",
    "del ratings_full, rating_labels"
   ]
  },
  {
   "cell_type": "markdown",
   "metadata": {},
   "source": [
    "## Metadata and Full User Data\n",
    "### Random Forest Classifier"
   ]
  },
  {
   "cell_type": "code",
   "execution_count": 15,
   "metadata": {},
   "outputs": [
    {
     "name": "stdout",
     "output_type": "stream",
     "text": [
      "Wall time: 10min 3s\n"
     ]
    }
   ],
   "source": [
    "%%time\n",
    "rfc  = RandomForestClassifier(n_estimators = 100, \n",
    "                              max_depth = 20, \n",
    "                              random_state = 42, \n",
    "                              max_features = 'sqrt', \n",
    "                              min_samples_leaf = 20, \n",
    "                              n_jobs = 2)\n",
    "rfc_model = rfc.fit(ratings_train, labels_train)"
   ]
  },
  {
   "cell_type": "code",
   "execution_count": 16,
   "metadata": {},
   "outputs": [
    {
     "name": "stdout",
     "output_type": "stream",
     "text": [
      "Wall time: 14 s\n"
     ]
    }
   ],
   "source": [
    "%%time\n",
    "rfc_model_preds = rfc_model.predict(ratings_test)"
   ]
  },
  {
   "cell_type": "code",
   "execution_count": 24,
   "metadata": {},
   "outputs": [
    {
     "name": "stdout",
     "output_type": "stream",
     "text": [
      "Accuracy: 0.39568696242300855\n",
      "Mean Absolute Error: 0.8120665678994392\n",
      "Mean Squared Error: 1.337617286082607\n",
      "Wall time: 113 ms\n"
     ]
    }
   ],
   "source": [
    "%%time\n",
    "print('Accuracy:', accuracy_score(labels_test, rfc_model_preds))\n",
    "print('Mean Absolute Error:', mean_absolute_error(labels_test, rfc_model_preds))\n",
    "print('Mean Squared Error:', mean_squared_error(labels_test, rfc_model_preds))\n",
    "del rfc_model_preds"
   ]
  },
  {
   "cell_type": "markdown",
   "metadata": {},
   "source": [
    "### Random Forest Regressor"
   ]
  },
  {
   "cell_type": "code",
   "execution_count": 18,
   "metadata": {},
   "outputs": [
    {
     "name": "stdout",
     "output_type": "stream",
     "text": [
      "Wall time: 3min 57s\n"
     ]
    }
   ],
   "source": [
    "%%time\n",
    "rfr  = RandomForestRegressor(n_estimators = 100, \n",
    "                              max_depth = 10, \n",
    "                              random_state = 42, \n",
    "                              max_features = 'sqrt', \n",
    "                              min_samples_leaf = 20, \n",
    "                              n_jobs = 2)\n",
    "rfr_model = rfr.fit(ratings_train, labels_train)"
   ]
  },
  {
   "cell_type": "code",
   "execution_count": 19,
   "metadata": {},
   "outputs": [
    {
     "name": "stdout",
     "output_type": "stream",
     "text": [
      "Wall time: 5.51 s\n"
     ]
    }
   ],
   "source": [
    "%%time\n",
    "rfr_model_preds = rfr_model.predict(ratings_test)"
   ]
  },
  {
   "cell_type": "code",
   "execution_count": 23,
   "metadata": {},
   "outputs": [
    {
     "name": "stdout",
     "output_type": "stream",
     "text": [
      "Mean Absolute Error: 0.9007535521813503\n",
      "Mean Squared Error: 1.173028708242167\n",
      "Wall time: 44.1 ms\n"
     ]
    }
   ],
   "source": [
    "%%time\n",
    "print('Mean Absolute Error:', mean_absolute_error(labels_test, rfr_model_preds))\n",
    "print('Mean Squared Error:', mean_squared_error(labels_test, rfr_model_preds))\n",
    "del rfr_model_preds"
   ]
  },
  {
   "cell_type": "markdown",
   "metadata": {},
   "source": [
    "### Gradient Boosting Tree Classifier"
   ]
  },
  {
   "cell_type": "code",
   "execution_count": null,
   "metadata": {},
   "outputs": [],
   "source": [
    "%%time\n",
    "gbc  = GradientBoostingClassifier(n_estimators = 100, \n",
    "                                  learning_rate = 0.1, \n",
    "                                  max_depth = 10,\n",
    "                                  random_state = 42, \n",
    "                                  max_features = 'sqrt', \n",
    "                                  min_samples_leaf = 20,\n",
    "                                  n_iter_no_change = 5)\n",
    "gbc_model = gbc.fit(ratings_train, labels_train)"
   ]
  },
  {
   "cell_type": "code",
   "execution_count": null,
   "metadata": {},
   "outputs": [],
   "source": [
    "%%time\n",
    "gbc_model_preds = gbc_model.predict(ratings_test)"
   ]
  },
  {
   "cell_type": "code",
   "execution_count": null,
   "metadata": {},
   "outputs": [],
   "source": [
    "%%time\n",
    "print('Accuracy:', accuracy_score(labels_test, gbc_model_preds))\n",
    "print('Mean Absolute Error:', mean_absolute_error(labels_test, gbc_model_preds))\n",
    "print('Mean Squared Error:', mean_squared_error(labels_test, gbc_model_preds))\n",
    "del gbc_model_preds"
   ]
  },
  {
   "cell_type": "markdown",
   "metadata": {},
   "source": [
    "### Gradient Boosting Tree Regressor"
   ]
  },
  {
   "cell_type": "code",
   "execution_count": null,
   "metadata": {},
   "outputs": [],
   "source": [
    "%%time\n",
    "gbr  = GradientBoostingRegressor(n_estimators = 100, \n",
    "                                 learning_rate = 0.1, \n",
    "                                 max_depth = 10,\n",
    "                                 random_state = 42, \n",
    "                                 max_features = 'sqrt', \n",
    "                                 min_samples_leaf = 20,\n",
    "                                 n_iter_no_change = 5)\n",
    "gbr_model = gbr.fit(ratings_train, labels_train)"
   ]
  },
  {
   "cell_type": "code",
   "execution_count": null,
   "metadata": {},
   "outputs": [],
   "source": [
    "%%time\n",
    "gbr_model_preds = gbr_model.predict(ratings_test)"
   ]
  },
  {
   "cell_type": "code",
   "execution_count": null,
   "metadata": {},
   "outputs": [],
   "source": [
    "%%time\n",
    "print('Mean Absolute Error:', mean_absolute_error(labels_test, rfr_model_preds))\n",
    "print('Mean Squared Error:', mean_squared_error(labels_test, rfr_model_preds))\n",
    "del gbr_model_preds"
   ]
  }
 ],
 "metadata": {
  "kernelspec": {
   "display_name": "py37env",
   "language": "python",
   "name": "py37env"
  },
  "language_info": {
   "codemirror_mode": {
    "name": "ipython",
    "version": 3
   },
   "file_extension": ".py",
   "mimetype": "text/x-python",
   "name": "python",
   "nbconvert_exporter": "python",
   "pygments_lexer": "ipython3",
   "version": "3.7.3"
  }
 },
 "nbformat": 4,
 "nbformat_minor": 2
}
